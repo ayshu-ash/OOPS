{
  "nbformat": 4,
  "nbformat_minor": 0,
  "metadata": {
    "colab": {
      "provenance": []
    },
    "kernelspec": {
      "name": "python3",
      "display_name": "Python 3"
    },
    "language_info": {
      "name": "python"
    }
  },
  "cells": [
    {
      "cell_type": "markdown",
      "source": [
        "# **Python OOPs Questions**"
      ],
      "metadata": {
        "id": "il5KQJlfz6lk"
      }
    },
    {
      "cell_type": "markdown",
      "source": [
        " 1. What is Object-Oriented Programming (OOP)?\n",
        "   - Object-Oriented Programming is a method of programming that organizes software design around objects, which are instances of classes. These objects can hold data (attributes) and functions (methods) that operate on the data.\n",
        "   \n",
        "     Key Concepts of OOP:\n",
        "\n",
        "     * Class: A blueprint for creating objects. It defines the attributes and methods.\n",
        "\n",
        "     * Object: An instance of a class. It contains actual values.\n",
        "\n",
        "     * Encapsulation: Wrapping data and methods into a single unit (class). It hides internal details and only exposes what is necessary.\n",
        "\n",
        "     * Inheritance: Allows one class (child) to inherit properties and behaviors (methods) from another class (parent).\n",
        "\n",
        "     * Polymorphism: The ability to perform a task in different ways. For example, the same method name can behave differently based on the object.\n",
        "\n",
        "     * Abstraction: Hides complex details and shows only the essential features to the user.\n",
        "\n",
        "------\n",
        "\n",
        " 2. What is a class in OOP?\n",
        "   - A class is a blueprint or template used to create objects in Object-Oriented Programming.\n",
        "It defines the attributes (data) and methods (functions) that the object will have.\n",
        "\n",
        "     Key Points:\n",
        "\n",
        "     * A class groups related data and behavior together.\n",
        "\n",
        "     * It does not occupy memory until an object is created from it.\n",
        "\n",
        "     * Multiple objects can be created from the same class.\n",
        "\n",
        "      Example in Python:\n",
        "\n",
        "            def __init__(self, brand):\n",
        "               self.brand = brand\n",
        "            def drive(self):\n",
        "               print(f\"{self.brand} car is driving.\")\n",
        "      Here:\n",
        "\n",
        "       Car is the class, brand is an attribute, drive() is a method.\n",
        "\n",
        "-------\n",
        "\n",
        " 3. What is an object in OOP?\n",
        "   - An object is a real-world instance of a class in Object-Oriented Programming.\n",
        "\n",
        "     It has:\n",
        "\n",
        "     * Attributes (data)\n",
        "\n",
        "     * and Methods (functions) defined in the class.\n",
        "\n",
        "     An object is created from a class and uses the class structure to hold actual values.\n",
        "\n",
        "     Example :\n",
        "\n",
        "            class Dog:\n",
        "               def __init__(self, name):\n",
        "                   self.name = name\n",
        "               def bark(self):\n",
        "                   print(f\"{self.name} is barking!\")\n",
        "             #objects\n",
        "             my_dog = Dog(\"Tommy\")\n",
        "             my_dog.bark()\n",
        "\n",
        "\n",
        "-----\n",
        "\n",
        " 4. What is the difference between abstraction and encapsulation?\n",
        "   - Abstraction is the concept in Object-Oriented Programming that focuses on hiding the complex details and showing only the necessary features to the user. It helps to simplify things by letting the user interact with the system without worrying about how everything works behind the scenes. For example, when you use a TV remote, you only see the buttons you need to press, not the complex circuitry inside. In programming, abstraction is done using abstract classes or interfaces that define what actions an object can perform without showing how these actions are implemented.\n",
        "\n",
        "     On the other hand, encapsulation means bundling the data (attributes) and the methods (functions) that work on that data into a single unit, usually a class. It also involves restricting direct access to some of an object's components, which protects the data from being changed accidentally or inappropriately. This is usually done by making variables private and providing public methods to access or update them safely. For example, a medicine capsule hides the bitter medicine inside to protect the user from the taste, similar to how encapsulation hides data inside a class.\n",
        "\n",
        "     In short, abstraction hides complexity by showing only important details, while encapsulation hides data by controlling access to it. Both help in making programs easier to use and maintain.\n",
        "\n",
        "------\n",
        "\n",
        " 5. What are dunder methods in Python?\n",
        "   - Dunder methods, also known as magic methods or special methods, in Python are special reserved methods that are surrounded by double underscores (i.e., __method__). These methods allow you to define how instances of your classes behave when they are used with built-in Python functions or operators. Understanding dunder methods is crucial for creating custom objects that behave like built-in types or implementing operator overloading in Python. Some commonly used dunder methods are:\n",
        "\n",
        "          * __init__(self, ...)\n",
        "\n",
        "          * __str__(self)\n",
        "\n",
        "          * __repr__(self)\n",
        "\n",
        "          * __add__(self, other)\n",
        "\n",
        "          * __eq__(self, other)\n",
        "\n",
        "      Example:\n",
        "\n",
        "            class MyClass:\n",
        "               def __init__(self, x):\n",
        "                  self.x = x\n",
        "            obj = MyClass(5)\n",
        "\n",
        "-------\n",
        "\n",
        " 6. Explain the concept of inheritance in OOP.\n",
        "   - Inheritence plays a significant role in an object oriented programming language. Inheritence in python refers to the child class receiving the parent's class properties. The reuse of code is main goal of inheritence. Instaed of developing from scartch when developing a new class, we can use the existing class instead of re-creating it from scratch.\n",
        "\n",
        "   Syntax:\n",
        "\n",
        "          class BaseClass:\n",
        "             #body of base class\n",
        "          class DerivedClass(BaseClass):\n",
        "             #body of derived class\n",
        "\n",
        "    Types of inheritence in OOPS:\n",
        "\n",
        "    * Single inheritence - When a class has only one parent, it is said to have a single inheritence. One class for child and one class for parent.\n",
        "\n",
        "    * Mutiple inheritence - One child class may inherit from several parent classes when there is multiple inheritance.\n",
        "\n",
        "    * Multilevel inheritence - A class inherits from a child class or derived class under multilevel inheritance. Think of three classes: A, B, and C. Superclass A, child class B, and child class C are all subclasses of A. In other words, multilevel inheritance is the term used to describe a set of classes.\n",
        "\n",
        "    * Hierarchial inheritence - A single parent class gives rise to multiple child classes under hierarchical inheritance. To put it another way, we can say that there is one parent class and several child classes.\n",
        "\n",
        "    * Hybrid inheritence - When inheritance consists of multiple types or a combination of different inheritance is called hybrid inheritance.\n",
        "\n",
        "-----\n",
        "\n",
        " 7. What is polymorphism in OOP?\n",
        "   - In OOP, polymorphism refers to an object's capacity to assume several forms. Simply said, polymorphism enables us to carry out a single activity in a variety of ways. From the Greek words poly (many) and morphism (forms), we get polymorphism. Polymorphism is the capacity to assume several shapes.\n",
        "\n",
        "     Method overriding polymorphism enables us to define child class methods with the same names as parent class methods. The act of overriding an inherited method in a child class is referred to as method overriding.\n",
        "\n",
        "     In python, polymorphism is achieved through method overloading and method overriding.\n",
        "\n",
        "     Example (Method Overriding):\n",
        "            class Animal:\n",
        "              def sound(self):\n",
        "                print(\"Some sound\")\n",
        "\n",
        "            class Dog(Animal):\n",
        "              def sound(self):\n",
        "                print(\"Bark\")\n",
        "\n",
        "            class Cat(Animal):\n",
        "              def sound(self):\n",
        "                print(\"Meow\")\n",
        "\n",
        "            animal = animal()\n",
        "            dog = Dog()\n",
        "            cat = Cat()\n",
        "\n",
        "            animal.sound()  #output: Some sound\n",
        "            dog.sound()     #output: Bark\n",
        "            cat.sound()    #output: Meow\n",
        "\n",
        "--------\n",
        "\n",
        " 8. How is encapsulation achieved in Python?\n",
        "  - Encapsulation is a Python technique for combining data and functions into a single object. A class, for instance, contains all the data (methods and variables). Encapsulation refers to the broad concealment of an object's internal representation from areas outside of its specification.\n",
        "\n",
        "     Assume, for instance, that you combine methods that provide read or write access with an attribute that is hidden from view on the exterior of an object. Then, you may limit who has access to the object's internal state and hide particular pieces of information. Without giving the program complete access to all of a class's variables, encapsulation provides a mechanism for us to obtain the necessary variable. This method is used to shield an object's data from other objects.\n",
        "\n",
        "     In Python, encapsulation is achieved by using access modifiers:\n",
        "\n",
        "      * Public: No underscore (accessible everywhere)\n",
        "\n",
        "      * Protected: Single underscore _ (convention to restrict access)\n",
        "\n",
        "      * Private: Double underscore __ (strongly restricts access using name mangling)\n",
        "\n",
        "--------\n",
        "\n",
        " 9. What is a constructor in Python?\n",
        "   - A constructor is a particular method used in object-oriented programming to generate and initialise an object of a class. In the class, this method is defined. When an object is created, the constructor is automatically run.Declaring and initialising a class's instance and data member variables is the main function of the constructor. An object's attributes are initialised by the constructor, which is a collection of statements (i.e., instructions) that run when an object is created.\n",
        "\n",
        "   Syntax of constructor :\n",
        "\n",
        "          def __init(self):\n",
        "            #body of constructor\n",
        "\n",
        "   Types of Constructor:\n",
        "\n",
        "     * Default Constructor\n",
        "     * Non-Parameterized Constructor\n",
        "     * Parameterized Constructor\n",
        "\n",
        "   Example (default constructor):\n",
        "         class person:\n",
        "           def display(self):\n",
        "             print(\"Inside display\")\n",
        "\n",
        "         man = display()\n",
        "         man.display()   #output: Inside display\n",
        "\n",
        "------\n",
        "\n",
        " 10. What are class and static methods in Python?\n",
        "   - Class methods are methods that are bound to the class and not the instance of the class. They can access or modify class state that applies across all instances of the class. Class methods are defined using the @classmethod decorator.\n",
        "\n",
        "      Example:\n",
        "           class Employee:\n",
        "             company_name = \"ABC Corp\"\n",
        "\n",
        "             @classmethod\n",
        "             def change_company(cls, new_name):\n",
        "                cls.company_name = new_name\n",
        "           Employee.change_company(\"XYZ Ltd\")\n",
        "           print(Employee.company_name)  # Output: XYZ Ltd\n",
        "\n",
        "      Static methods are methods that belong to the class and don't access or modify class or instance state. They are defined using the @staticmethod decorator.\n",
        "\n",
        "     Example:\n",
        "           class Math:\n",
        "              @staticmethod\n",
        "              def add(a, b):\n",
        "                return a + b\n",
        "\n",
        "           print(Math.add(5, 3))  # Output: 8\n",
        "\n",
        "-------\n",
        "\n",
        " 11. What is method overloading in Python?\n",
        "   - Method overloading is the practice of invoking the same method more than once with different parameters. Method overloading is not supported by Python. Even if you overload the method, Python only takes into account the most recent definition. If you overload a method in Python, a TypeError will be raised.\n",
        "\n",
        "      Example:\n",
        "             def mul(x, y):\n",
        "               z = x*y\n",
        "               print(z)\n",
        "             def mul(p, q, r):\n",
        "               s = p*q*r\n",
        "               print(\"Output:\", s)\n",
        "             mul(5, 2, 3)  #Output: 30\n",
        "\n",
        "---------\n",
        "\n",
        " 12. What is method overriding in OOP?\n",
        "   -  In Python, method overriding is the process of providing a different implementation for a method that is already defined in the superclass within a subclass. It enables the subclass to define its own version of a method with the same name and parameters as the method in the superclass. When a method is overridden, the subclass implements the method in its own way, which overrides the behaviour defined in the superclass. The subclass can then alter or expand the functionality of the inherited method.\n",
        "\n",
        "      The name, parameters, and return type of the overridden method in the subclass must match those of the method in the superclass. Method overriding occurs only when the subclass has a method with the same name and signature as the superclass method.\n",
        "\n",
        "      When a subclass object is used to call the overridden method during runtime, the subclass implementation is invoked rather than the superclass implementation. A crucial element of polymorphism is the dynamic dispatch of methods based on the actual object type.\n",
        "\n",
        "      Example:\n",
        "            class Animal:\n",
        "              def sound(self):\n",
        "                print(\"Some sound\")\n",
        "\n",
        "            class Dog(Animal):\n",
        "              def sound(self):\n",
        "                print(\"Bark\")\n",
        "\n",
        "            class Cat(Animal):\n",
        "              def sound(self):\n",
        "                print(\"Meow\")\n",
        "\n",
        "            animal = animal()\n",
        "            dog = Dog()\n",
        "            cat = Cat()\n",
        "\n",
        "            animal.sound()  #output: Some sound\n",
        "            dog.sound()     #output: Bark\n",
        "            cat.sound()    #output: Meow\n",
        " 13. What is a property decorator in Python?\n",
        "  - The @property decorator in Python is used to make a method behave like an attribute. It is mainly used to access private data (like variables starting with __) in a safe way. Instead of calling a method like obj.get_value(), you can access it like obj.value, which makes the code cleaner and easier to read.\n",
        "\n",
        "      It's helpful when you want to hide internal variables, but still give controlled access to them. You can also perform calculations or add logic when someone accesses that value.\n",
        "\n",
        "      Example:\n",
        "              class Circle:\n",
        "                def __init__(self, radius):\n",
        "                   self.__radius = radius\n",
        "\n",
        "               @property\n",
        "               def radius(self):\n",
        "                  return self.__radius\n",
        "\n",
        "              c = Circle(5)\n",
        "              print(c.radius)  # Output: 5\n",
        "            \n",
        "      Here, radius is a method but accessed like a variable using @property.\n",
        "\n",
        "\n",
        "------------------\n",
        "\n",
        " 14. Why is polymorphism important in OOP?\n",
        "   - Polymorphism is one of the core principles of Object-Oriented Programming (OOP). It allows objects of different classes to respond to the same method or function in their own way. This is important because it helps write flexible, maintainable, and scalable code.\n",
        "\n",
        "      With polymorphism, a single function or method can work with different types of objects, making it easier to manage large programs. It also helps reduce code duplication, as you don't need to write separate methods for each class that performs similar tasks.\n",
        "\n",
        "      Why it's useful:\n",
        "        * Code Reusability: One method can be reused for different types of objects.\n",
        "\n",
        "        * Extensibility: New classes can be added easily without modifying existing code.\n",
        "\n",
        "        * Cleaner Code: Makes code easier to read and maintain.\n",
        "\n",
        "        * Loose Coupling: Code becomes less dependent on specific classes.\n",
        "\n",
        "----------------\n",
        "\n",
        " 15. What is an abstract class in Python?\n",
        "   - Abstraction allows you to construct abstract classes and methods that give a high-level interface without providing the implementation specifics. Abstract classes cannot be instantiated and must be subclassed. They may contain abstract methods that are declared but not implemented in the abstract class itself. Subclasses are in charge of implementing these abstract methods.\n",
        "\n",
        "      To declare an Abstract class, we firstly need to import the abc module. Let us look at an example.\n",
        "             from abc import ABC\n",
        "             class abs_class(ABC):\n",
        "                #abstract methods\n",
        "     Here, abs_class is the abstract class inside which abstract methods or any other sort of methods can be defined. As a property, abstract classes can have any number of abstract methods coexisting with any number of other methods. For example we can see below.\n",
        "             from abc import ABC, abstractmethod\n",
        "             class abs_class(ABC):\n",
        "                #normal methods\n",
        "                def method(self):\n",
        "                  #method definition\n",
        "                @abstractmethod\n",
        "                def abs_method(self):\n",
        "                  abs_method definition\n",
        "     Here, method() is a normal method whereas Abs_method() is an abstract method implementing @abstractmethod from the abc module.\n",
        "\n",
        "-------------\n",
        "\n",
        " 16. What are the advantages of OOP?\n",
        "   - Advantages of Object-Oriented Programming (OOP)\n",
        "         * Modularity - Code is divided into classes and objects, making it easy to manage and understand.\n",
        "\n",
        "         * Reusability - Classes can be reused across different programs using inheritance, saving time and effort.\n",
        "\n",
        "         * Data Hiding - Using encapsulation, OOP hides internal object details and protects data from outside interference.\n",
        "\n",
        "         * Polymorphism - Allows one function or method to work in different ways, making the code flexible and extensible.\n",
        "\n",
        "         * Easy Maintenance - Since code is organized in objects, fixing bugs or updating a feature is easier without affecting other parts.\n",
        "\n",
        "         * Real-world Modeling - OOP is based on real-world objects, making it easier to relate and design applications effectively.\n",
        "\n",
        "------------\n",
        "\n",
        " 17. What is multiple inheritance in Python?\n",
        "   - Multiple inheritance is a concept in Object-Oriented Programming where a single class can inherit from two or more parent classes. This allows the child class to access properties and methods from all its parent classes.\n",
        "\n",
        "       It helps in reusing code and combining features from multiple sources, but it also brings complexity, especially when parent classes have methods with the same name.\n",
        "\n",
        "       Example:\n",
        "               class Father:\n",
        "                 def skills(self):\n",
        "                     print(\"Father: Cooking, Driving\")\n",
        "\n",
        "               class Mother:\n",
        "                 def hobbies(self):\n",
        "                     print(\"Mother: Painting, Singing\")\n",
        "\n",
        "               class Child(Father, Mother):\n",
        "                  def talents(self):\n",
        "                     print(\"Child: Dancing\")\n",
        "\n",
        "               c = Child()\n",
        "               c.skills()     # Inherited from Father\n",
        "               c.hobbies()    # Inherited from Mother\n",
        "               c.talents()    # Own method\n",
        "\n",
        "        Multiple inheritance allows classes to inherit and combine the behavior of multiple parent classes, providing flexibility in designing complex class hierarchies. However, it's important to carefully consider the design and potential complexities that can arise when using multiple inheritance.\n",
        "\n",
        "-------------\n",
        "\n",
        " 18. What is the difference between a class variable and an instance variable?\n",
        "   - In Python, class variables and instance variables are used to store data, but they differ in how and where they are used.\n",
        "   \n",
        "      A class variable is shared among all instances of the class. It is defined inside the class but outside any methods. This means all objects of the class can access and share the same value of a class variable.\n",
        "\n",
        "      On the other hand, an instance variable is unique to each object. It is usually defined inside the __init__() method using self, and it stores data specific to that object. While class variables are useful for storing common values (like a school name), instance variables are used for object-specific data (like student name or grade).\n",
        "      \n",
        "      For example, if we have a class Student with a class variable school_name and instance variables name and grade, each student object will have its own name and grade, but all students will share the same school name.\n",
        "\n",
        "--------------\n",
        "\n",
        " 19. Explain the purpose of ‘’__str__’ and ‘__repr__’ ‘ methods in Python.\n",
        "   - __str__(self): Its main purpose is to provide a human-readable or friendly string representation of an object. This is used when you want to display the object to end users, such as when printing the object with print() or converting it to a string with str().\n",
        "\n",
        "      __repr__(self): Its purpose is to provide a detailed and unambiguous string representation of the object, mainly for developers. The output of __repr__ is intended to help with debugging and should ideally be a string that could be used to recreate the object if needed. It is used by the repr() function and in the interactive interpreter.\n",
        "\n",
        "-------------\n",
        "\n",
        " 20. What is the significance of the ‘super()’ function in Python?\n",
        "   - The super() function is used to call a method from the parent (super) class inside a child class. It allows the child class to inherit and extend the behavior of the parent class without explicitly naming the parent.\n",
        "\n",
        "      Why is it important?\n",
        "\n",
        "      * It helps in code reuse by accessing parent class methods.\n",
        "\n",
        "      * Makes it easier to work with multiple inheritance by handling method resolution order (MRO) automatically.\n",
        "\n",
        "      * Avoids the need to hardcode the parent class name, making code more maintainable and flexible.\n",
        "\n",
        "---------------\n",
        "\n",
        " 21. What is the significance of the __del__ method in Python?\n",
        "   - The __del__ method is a special method called a destructor. It is automatically invoked when an object is about to be destroyed or garbage collected by Python.\n",
        "\n",
        "       Purpose:\n",
        "\n",
        "      * To clean up resources (like closing files, releasing network connections) before the object is removed from memory.\n",
        "\n",
        "      * It helps in freeing up memory or performing any necessary final tasks for the object.\n",
        "\n",
        "-------------\n",
        "\n",
        " 22. What is the difference between @staticmethod and @classmethod in Python?\n",
        "   - Class methods are methods that are bound to the class, not to an instance. They receive the class itself as the first parameter, usually named cls. Class methods can access or modify the class state, which affects all instances of the class. They are defined using the @classmethod decorator.\n",
        "\n",
        "      Static methods belong to the class but do not access or modify the class or instance state. They behave like regular functions but belong to the class's namespace. Static methods do not take self or cls as the first argument. They are defined using the @staticmethod decorator.\n",
        "\n",
        "----------\n",
        "\n",
        " 23. How does polymorphism work in Python with inheritance?\n",
        "   - Inheritance is the primary application of polymorphism. The traits and methods of a parent class are passed down to a child class through inheritance. A subclass, child class, or derived class is a new class that is created from an existing class, which is referred to as a base class or parent class.\n",
        "\n",
        "      Method overriding polymorphism enables us to define child class methods with the same names as parent class methods. The act of overriding an inherited method in a child class is referred to as method overriding.\n",
        "\n",
        "-------------------\n",
        "\n",
        " 24. What is method chaining in Python OOP?\n",
        "   -  Method chaining is a programming technique where multiple methods are called one after another on the same object in a single line of code. This is possible because each method returns the object itself (self), allowing the next method to be called immediately.\n",
        "\n",
        "      The main purpose of method chaining is to make the code more concise, readable, and expressive. Instead of writing multiple statements for each method call, you can chain them together smoothly. This is especially useful when you want to perform a series of operations on the same object.\n",
        "\n",
        "-------------\n",
        "\n",
        " 25. What is the purpose of the __call__ method in Python?\n",
        "   - The __call__ method allows an instance of a class to be called like a function. When you use parentheses () after an object, Python internally calls the object's __call__ method.\n",
        "\n",
        "      Purpose:\n",
        "\n",
        "       * To make an object callable, behaving like a function.\n",
        "\n",
        "       * Useful for creating objects that can be used as functions with state or behavior.\n",
        "\n",
        "       * Enables more flexible and intuitive interfaces.\n",
        "\n",
        "       Example:\n",
        "                class Greeter:\n",
        "                  def __call__(self):\n",
        "                     print(\"Hello!\")\n",
        "\n",
        "                g = Greeter()\n",
        "                g()   \n",
        "       Calls the __call__ method and prints \"Hello!\"\n",
        "\n"
      ],
      "metadata": {
        "id": "aN-aQMNKz4eL"
      }
    },
    {
      "cell_type": "markdown",
      "source": [
        "# **Practical Questions**"
      ],
      "metadata": {
        "id": "suYz6s-R2HIc"
      }
    },
    {
      "cell_type": "code",
      "source": [
        "#  1. Create a parent class Animal with a method speak() that prints a generic message. Create a child class Dog that overrides the speak() method to print \"Bark!\".\n",
        "class Animal:\n",
        "  def speak(self):\n",
        "    print(\"The animal makes a sound\")\n",
        "class Dog(Animal):\n",
        "  def speak(self):\n",
        "    print(\"This animal barks!..\")\n",
        "\n",
        "a = Animal()\n",
        "a.speak()\n",
        "d = Dog()\n",
        "d.speak()\n"
      ],
      "metadata": {
        "id": "J1mtrRH11EEQ",
        "colab": {
          "base_uri": "https://localhost:8080/"
        },
        "outputId": "eaef702e-19c4-4d84-a6ab-2b2d87f1e735"
      },
      "execution_count": 44,
      "outputs": [
        {
          "output_type": "stream",
          "name": "stdout",
          "text": [
            "The animal makes a sound\n",
            "This animal barks!..\n"
          ]
        }
      ]
    },
    {
      "cell_type": "code",
      "source": [
        "# 2. Write a program to create an abstract class Shape with a method area(). Derive classes Circle and Rectangle from it and implement the area() method in both.\n",
        "from abc import ABC, abstractmethod\n",
        "class Shape(ABC):\n",
        "  @abstractmethod\n",
        "  def area(self):\n",
        "    pass\n",
        "class Circle(Shape):\n",
        "  def __init__(self,radius):\n",
        "    self.radius = radius\n",
        "  def area(self):\n",
        "    return 3.14 * self.radius * self.radius\n",
        "class Rectangle(Shape):\n",
        "  def __init__(self, length, width):\n",
        "    self.length = length\n",
        "    self.width = width\n",
        "  def area(self):\n",
        "    return self.length * self.width\n",
        "\n",
        "c = Circle(5)\n",
        "print(\"Area of Circle:\", c.area())\n",
        "r = Rectangle(6, 2)\n",
        "print(\"Area of Rectangle:\", r.area())"
      ],
      "metadata": {
        "id": "6aB27eig1EAv",
        "colab": {
          "base_uri": "https://localhost:8080/"
        },
        "outputId": "6503471f-6898-46e3-f26f-abc0440306de"
      },
      "execution_count": 43,
      "outputs": [
        {
          "output_type": "stream",
          "name": "stdout",
          "text": [
            "Area of Circle: 78.5\n",
            "Area of Rectangle: 12\n"
          ]
        }
      ]
    },
    {
      "cell_type": "code",
      "source": [
        "#  3. Implement a multi-level inheritance scenario where a class Vehicle has an attribute type. Derive a class Car and further derive a class ElectricCar that adds a battery attribute.\n",
        "class Vehicle:\n",
        "  def __init__(self, type):\n",
        "    self.type = type\n",
        "class Car(Vehicle):\n",
        "  def __init__(self, type):\n",
        "    self.type=type\n",
        "class ElectricCar(Car):\n",
        "  def __init__(self, type, battery):\n",
        "    self.type = type\n",
        "    self.battery = battery\n",
        "\n",
        "e = ElectricCar(\"Electric\", \"100 kWh\")\n",
        "print(e.type)\n",
        "print(e.battery)"
      ],
      "metadata": {
        "id": "TkP4HI5o1D-O",
        "colab": {
          "base_uri": "https://localhost:8080/"
        },
        "outputId": "daef51ab-5b01-47cb-bafd-5928f7a2cdcb"
      },
      "execution_count": null,
      "outputs": [
        {
          "output_type": "stream",
          "name": "stdout",
          "text": [
            "Electric\n",
            "100 kWh\n"
          ]
        }
      ]
    },
    {
      "cell_type": "code",
      "source": [
        "#  4. Demonstrate polymorphism by creating a base class Bird with a method fly(). Create two derived classes Sparrow and Penguin that override the fly() method.\n",
        "class Bird:\n",
        "  def fly(self):\n",
        "    print(\"Birds can fly\")\n",
        "class Sparrow(Bird):\n",
        "  def fly(self):\n",
        "    print(\"Sparrow flies high in the sky\")\n",
        "class Penguin(Bird):\n",
        "  def fly(self):\n",
        "    print(\"Penguin cannot fly, they can swim\")\n",
        "\n",
        "bird = Bird()\n",
        "sparrow = Sparrow()\n",
        "penguin = Penguin()\n",
        "bird.fly()\n",
        "sparrow.fly()\n",
        "penguin.fly()"
      ],
      "metadata": {
        "id": "RDZBGaYq1D73",
        "colab": {
          "base_uri": "https://localhost:8080/"
        },
        "outputId": "fcf978af-cb68-42ba-acc8-4bef935cf255"
      },
      "execution_count": null,
      "outputs": [
        {
          "output_type": "stream",
          "name": "stdout",
          "text": [
            "Birds can fly\n",
            "Sparrow flies high in the sky\n",
            "Penguin cannot fly, they can swim\n"
          ]
        }
      ]
    },
    {
      "cell_type": "code",
      "source": [
        "# 5. Write a program to demonstrate encapsulation by creating a class BankAccount with private attributes balance and methods to deposit, withdraw, and check balance.\n",
        "class BankAccount:\n",
        "  def __init__(self, initial_bal):\n",
        "    self.__balance = initial_bal\n",
        "  def deposit(self, amount):\n",
        "    if amount > 0:\n",
        "      self.__balance += amount\n",
        "      print(f\"Deposited Rs{amount} in your account\")\n",
        "    else:\n",
        "      print(\"Invalid amount\")\n",
        "  def withdraw(self, amount):\n",
        "     if self.__balance >= amount:\n",
        "            self.__balance = self.__balance - amount\n",
        "            print(f\"Withdrew Rs{amount} from your account\")\n",
        "     else:\n",
        "            print(\"Insufficient balance\")\n",
        "  def get_balance(self):\n",
        "        print(f\"Current Balance: {self.__balance}\")\n",
        "\n",
        "account = BankAccount(1000)\n",
        "account.deposit(500)\n",
        "account.withdraw(300)\n",
        "account.get_balance()"
      ],
      "metadata": {
        "id": "xhod4hFK1D5c",
        "colab": {
          "base_uri": "https://localhost:8080/"
        },
        "outputId": "a4369497-1ea8-4988-a082-42943ae45f45"
      },
      "execution_count": 42,
      "outputs": [
        {
          "output_type": "stream",
          "name": "stdout",
          "text": [
            "Deposited Rs500 in your account\n",
            "Withdrew Rs300 from your account\n",
            "Current Balance: 1200\n"
          ]
        }
      ]
    },
    {
      "cell_type": "code",
      "source": [
        "#  6. Demonstrate runtime polymorphism using a method play() in a base class Instrument. Derive classes Guitar and Piano that implement their own version of play().\n",
        "class Instrument:\n",
        "  def play(self):\n",
        "    print(\"There are lot of instruments\")\n",
        "class Guitar(Instrument):\n",
        "  def play(self):\n",
        "    print(\"Guitar is playing melody\")\n",
        "class Piano(Instrument):\n",
        "  def play(self):\n",
        "    print(\"Piano is playing harmony\")\n",
        "def perform(Instrument):\n",
        "  Instrument.play()\n",
        "\n",
        "i = Instrument()\n",
        "g = Guitar()\n",
        "p = Piano()\n",
        "\n",
        "perform(i)\n",
        "perform(g)\n",
        "perform(p)"
      ],
      "metadata": {
        "id": "jauigoOk1D24",
        "colab": {
          "base_uri": "https://localhost:8080/"
        },
        "outputId": "ac1f039a-b7f5-4063-89b2-25e4b6694b5e"
      },
      "execution_count": 41,
      "outputs": [
        {
          "output_type": "stream",
          "name": "stdout",
          "text": [
            "There are lot of instruments\n",
            "Guitar is playing melody\n",
            "Piano is playing harmony\n"
          ]
        }
      ]
    },
    {
      "cell_type": "code",
      "source": [
        "# 7. Create a class MathOperations with a class method add_numbers() to add two numbers and a static method subtract_numbers() to subtract two numbers.\n",
        "class MathOperations:\n",
        "  @classmethod\n",
        "  def add_numbers(cls, x, y):\n",
        "    return x + y\n",
        "  @staticmethod\n",
        "  def subtract_numbers(x, y):\n",
        "    return x - y\n",
        "\n",
        "sum_result = MathOperations.add_numbers(5, 3)\n",
        "print(\"Sum is:\", sum_result)\n",
        "\n",
        "diff_result = MathOperations.subtract_numbers(5, 3)\n",
        "print(\"Difference is:\", diff_result)"
      ],
      "metadata": {
        "id": "_ux_exuc1D0a",
        "colab": {
          "base_uri": "https://localhost:8080/"
        },
        "outputId": "c3edd2cb-4247-489e-818d-14e51fa6e629"
      },
      "execution_count": 40,
      "outputs": [
        {
          "output_type": "stream",
          "name": "stdout",
          "text": [
            "Sum is: 8\n",
            "Difference is: 2\n"
          ]
        }
      ]
    },
    {
      "cell_type": "code",
      "source": [
        "#  8. Implement a class Person with a class method to count the total number of persons created.\n",
        "class Person:\n",
        "    count = 0\n",
        "    def __init__(self):\n",
        "        Person.count += 1\n",
        "    @classmethod\n",
        "    def total_persons(cls):\n",
        "        print(\"Total persons created:\", cls.count)\n",
        "\n",
        "p1 = Person()\n",
        "p2 = Person()\n",
        "p3 = Person()\n",
        "Person.total_persons()"
      ],
      "metadata": {
        "id": "5jqJFnNb1Dxv",
        "colab": {
          "base_uri": "https://localhost:8080/"
        },
        "outputId": "40088480-2035-44ab-d411-55b4b32cba17"
      },
      "execution_count": 39,
      "outputs": [
        {
          "output_type": "stream",
          "name": "stdout",
          "text": [
            "Total persons created: 3\n"
          ]
        }
      ]
    },
    {
      "cell_type": "code",
      "source": [
        "# 9. Write a class Fraction with attributes numerator and denominator. Override the str method to display the fraction as \"numerator/denominator\".\n",
        "class Fraction:\n",
        "  def __init__(self, numerator, denominator):\n",
        "    self.numerator = numerator\n",
        "    self.denominator = denominator\n",
        "  def __str__(self):\n",
        "    return f\"{self.numerator/self.denominator}\"\n",
        "\n",
        "fraction = Fraction(4, 5)\n",
        "print(fraction)\n"
      ],
      "metadata": {
        "id": "-6Pye7XV1Dn_",
        "colab": {
          "base_uri": "https://localhost:8080/"
        },
        "outputId": "b85b3965-dd58-4208-d4a6-bd100853615b"
      },
      "execution_count": 4,
      "outputs": [
        {
          "output_type": "stream",
          "name": "stdout",
          "text": [
            "0.8\n"
          ]
        }
      ]
    },
    {
      "cell_type": "code",
      "source": [
        "# 10. Demonstrate operator overloading by creating a class Vector and overriding the add method to add two vectors.\n",
        "class Vector:\n",
        "  def __init__(self, x, y):\n",
        "    self.x = x\n",
        "    self.y = y\n",
        "  def __add__(self, other):\n",
        "    new_x = self.x + other.x\n",
        "    new_y = self.y + other.y\n",
        "    return Vector(new_x, new_y)\n",
        "  def __str__(self):\n",
        "    return f\"Vector({self.x}, {self.y})\"\n",
        "\n",
        "v1 = Vector(2, 5)\n",
        "v2 = Vector(7, 2)\n",
        "result = v1 + v2\n",
        "print(result)"
      ],
      "metadata": {
        "id": "vlgQRvNs1vV_",
        "colab": {
          "base_uri": "https://localhost:8080/"
        },
        "outputId": "317e4afd-601f-40a5-f176-4ee28d0e31e7"
      },
      "execution_count": 9,
      "outputs": [
        {
          "output_type": "stream",
          "name": "stdout",
          "text": [
            "Vector(9, 7)\n"
          ]
        }
      ]
    },
    {
      "cell_type": "code",
      "source": [
        "# 11. Create a class Person with attributes name and age. Add a method greet() that prints \"Hello, my name is {name} and I am {age} years old.\"\n",
        "class Person:\n",
        "  def __init__(self, name, age):\n",
        "    self.name = name\n",
        "    self.age = age\n",
        "  def greet(self):\n",
        "    print(f\"Hello, my name is {self.name} and I am {self.age} years old.\")\n",
        "\n",
        "p1 = Person(\"Aysha\", 21)\n",
        "p1.greet()"
      ],
      "metadata": {
        "id": "YFlpb7xz1vSb",
        "colab": {
          "base_uri": "https://localhost:8080/"
        },
        "outputId": "e0873861-70d2-4d62-b5f6-3fa01af8bc8c"
      },
      "execution_count": 12,
      "outputs": [
        {
          "output_type": "stream",
          "name": "stdout",
          "text": [
            "Hello, my name is Aysha and I am 21 years old.\n"
          ]
        }
      ]
    },
    {
      "cell_type": "code",
      "source": [
        "# 12. Implement a class Student with attributes name and grades. Create a method average_grade() to compute the average of the grades.\n",
        "class Students:\n",
        "  def __init__(self, name, grades):\n",
        "    self.name = name\n",
        "    self.grades = grades\n",
        "  def average_grade(self):\n",
        "    if len(self.grades) == 0:\n",
        "            return 0\n",
        "    return sum(self.grades) / len(self.grades)\n",
        "\n",
        "s1 = Students(\"Aysha\", [85, 90, 78, 92])\n",
        "print(f\"The average grade of {s1.name} is:\", s1.average_grade())\n"
      ],
      "metadata": {
        "id": "iZ_lzU-S1vMV",
        "colab": {
          "base_uri": "https://localhost:8080/"
        },
        "outputId": "8d64c2f5-da3e-4e74-ee54-24b7971fb184"
      },
      "execution_count": 19,
      "outputs": [
        {
          "output_type": "stream",
          "name": "stdout",
          "text": [
            "The average grade of Aysha is: 86.25\n"
          ]
        }
      ]
    },
    {
      "cell_type": "code",
      "source": [
        "# 13. Create a class Rectangle with methods set_dimensions() to set the dimensions and area() to calculate the area.\n",
        "class Rectangle:\n",
        "  def __init__(self):\n",
        "    pass\n",
        "  def set_dimensions(self, length, breadth):\n",
        "    self.length = length\n",
        "    self.breadth = breadth\n",
        "  def area(self):\n",
        "    return self.length*self.breadth\n",
        "\n",
        "rect1 = Rectangle()\n",
        "rect1.set_dimensions(8, 2)\n",
        "print(\"The area of rectangle is :\", rect1.area())"
      ],
      "metadata": {
        "id": "9uJha4bn1vJA",
        "colab": {
          "base_uri": "https://localhost:8080/"
        },
        "outputId": "2bea90ac-c9f8-42e7-f74d-7e7c60c522fb"
      },
      "execution_count": 25,
      "outputs": [
        {
          "output_type": "stream",
          "name": "stdout",
          "text": [
            "The area of rectangle is : 16\n"
          ]
        }
      ]
    },
    {
      "cell_type": "code",
      "source": [
        "# 14. Create a class Employee with a method calculate_salary() that computes the salary based on hours worked and hourly rate. Create a derived class Manager that adds a bonus to the salary.\n",
        "class Employee:\n",
        "    def __init__(self, name, hours_worked, hourly_rate):\n",
        "        self.name = name\n",
        "        self.hours_worked = hours_worked\n",
        "        self.hourly_rate = hourly_rate\n",
        "    def calculate_salary(self):\n",
        "        return self.hours_worked * self.hourly_rate\n",
        "class Manager(Employee):\n",
        "    def __init__(self, name, hours_worked, hourly_rate, bonus):\n",
        "        super().__init__(name, hours_worked, hourly_rate)\n",
        "        self.bonus = bonus\n",
        "    def calculate_salary(self):\n",
        "        base_salary = super().calculate_salary()\n",
        "        return base_salary + self.bonus\n",
        "\n",
        "emp = Employee(\"John\", 40, 15)\n",
        "mgr = Manager(\"Alice\", 40, 20, 500)\n",
        "print(f\"{emp.name}'s salary is: ₹{emp.calculate_salary()}\")\n",
        "print(f\"{mgr.name}'s salary is: ₹{mgr.calculate_salary()}\")"
      ],
      "metadata": {
        "id": "RDZausHN15KK",
        "colab": {
          "base_uri": "https://localhost:8080/"
        },
        "outputId": "d6f30594-108d-487b-b3a4-c97d36a0fe21"
      },
      "execution_count": 26,
      "outputs": [
        {
          "output_type": "stream",
          "name": "stdout",
          "text": [
            "John's salary is: ₹600\n",
            "Alice's salary is: ₹1300\n"
          ]
        }
      ]
    },
    {
      "cell_type": "code",
      "source": [
        "# 15. Create a class Product with attributes name, price, and quantity. Implement a method total_price() that calculates the total price of the product.\n",
        "class Product:\n",
        "    def __init__(self, name, price, quantity):\n",
        "        self.name = name\n",
        "        self.price = price\n",
        "        self.quantity = quantity\n",
        "    def total_price(self):\n",
        "        return self.price * self.quantity\n",
        "\n",
        "p1 = Product(\"Box\", 50, 3)\n",
        "print(f\"Total price of {p1.name} is:\", p1.total_price())"
      ],
      "metadata": {
        "id": "s3DqNolZ2QeF",
        "colab": {
          "base_uri": "https://localhost:8080/"
        },
        "outputId": "dd45df64-11de-4fa4-fffc-8a9a0ea5c6a9"
      },
      "execution_count": 27,
      "outputs": [
        {
          "output_type": "stream",
          "name": "stdout",
          "text": [
            "Total price of Box is: 150\n"
          ]
        }
      ]
    },
    {
      "cell_type": "code",
      "source": [
        "# 16. Create a class Animal with an abstract method sound(). Create two derived classes Cow and Sheep that implement the sound() method.\n",
        "from abc import ABC, abstractmethod\n",
        "class Animal(ABC):\n",
        "    @abstractmethod\n",
        "    def sound(self):\n",
        "        pass\n",
        "class Cow(Animal):\n",
        "    def sound(self):\n",
        "        print(\"Cow says Moo\")\n",
        "class Sheep(Animal):\n",
        "    def sound(self):\n",
        "        print(\"Sheep says Baa\")\n",
        "\n",
        "cow = Cow()\n",
        "sheep = Sheep()\n",
        "cow.sound()\n",
        "sheep.sound()"
      ],
      "metadata": {
        "id": "Uq4CYfHa2QSo",
        "colab": {
          "base_uri": "https://localhost:8080/"
        },
        "outputId": "b4774d38-3240-4f59-b8bc-fc034a1aabcc"
      },
      "execution_count": 28,
      "outputs": [
        {
          "output_type": "stream",
          "name": "stdout",
          "text": [
            "Cow says Moo\n",
            "Sheep says Baa\n"
          ]
        }
      ]
    },
    {
      "cell_type": "code",
      "source": [
        "#  17. Create a class Book with attributes title, author, and year_published. Add a method get_book_info() that returns a formatted string with the book's details.\n",
        "class Book:\n",
        "    def __init__(self, title, author, year):\n",
        "        self.title = title\n",
        "        self.author = author\n",
        "        self.year = year\n",
        "    def get_book_info(self):\n",
        "        return f\"The book {self.title} is written by {self.author}, published in {self.year}\"\n",
        "\n",
        "book = Book(\"Alice in Wonderland\", \"Lewis Carroll\", 1865)\n",
        "print(book.get_book_info())"
      ],
      "metadata": {
        "id": "Le58rpM62QHM",
        "colab": {
          "base_uri": "https://localhost:8080/"
        },
        "outputId": "894def36-26cb-43ab-8a72-00bfe7cdb985"
      },
      "execution_count": 32,
      "outputs": [
        {
          "output_type": "stream",
          "name": "stdout",
          "text": [
            "The book Alice in Wonderland is written by Lewis Carroll, published in 1865\n"
          ]
        }
      ]
    },
    {
      "cell_type": "code",
      "source": [
        "#  18. Create a class House with attributes address and price. Create a derived class Mansion that adds an attribute number_of_rooms.\n",
        "class House:\n",
        "    def __init__(self, address, price):\n",
        "        self.address = address\n",
        "        self.price = price\n",
        "class Mansion(House):\n",
        "    def __init__(self, address, price, number_of_rooms):\n",
        "        super().__init__(address, price)\n",
        "        self.number_of_rooms = number_of_rooms\n",
        "\n",
        "house = House(\"12 Park Street\", 500000)\n",
        "mansion = Mansion(\"99 Royal Road\", 2000000, 15)\n",
        "print(f\"House address:{house.address}, house price: {house.price}\")\n",
        "print(f\"Mansion:{mansion.address}, Price:{mansion.price}, Rooms:{mansion.number_of_rooms}\")"
      ],
      "metadata": {
        "id": "Wyv0DhVJ2P9E",
        "colab": {
          "base_uri": "https://localhost:8080/"
        },
        "outputId": "2abcdb74-88e1-47e7-a3b0-7cd1dd4b96a4"
      },
      "execution_count": 38,
      "outputs": [
        {
          "output_type": "stream",
          "name": "stdout",
          "text": [
            "House address:12 Park Street, house price: 500000\n",
            "Mansion:99 Royal Road, Price:2000000, Rooms:15\n"
          ]
        }
      ]
    }
  ]
}